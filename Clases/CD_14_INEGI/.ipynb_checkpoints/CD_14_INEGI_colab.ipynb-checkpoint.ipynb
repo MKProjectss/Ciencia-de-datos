{
 "cells": [
  {
   "cell_type": "markdown",
   "metadata": {
    "id": "47-pl1Rl1q7D"
   },
   "source": [
    "![Imagen](https://docs.google.com/uc?export=download&id=1rrUwI409dtetYdANj5ZhL1Z8O1Xj3IQK)  \n"
   ]
  },
  {
   "cell_type": "markdown",
   "metadata": {
    "id": "6bim-8S-1wea"
   },
   "source": [
    "    \n",
    "El **INEGI** es un organismo público autónomo responsable de normar y coordinar el Sistema Nacional de Información Estadística y Geográfica, así como de captar y difundir información de México en cuanto al territorio, los recursos, la población y economía, que permita dar a conocer las características de nuestro país y ayudar a la toma de decisiones."
   ]
  },
  {
   "cell_type": "markdown",
   "metadata": {
    "id": "oNjKtJSp2Eja"
   },
   "source": [
    "#  Historico de Población en México"
   ]
  },
  {
   "cell_type": "markdown",
   "metadata": {
    "id": "CglylwxU2EX5"
   },
   "source": [
    "## 1. Graficar el crecimiento de la población total, así como el de hombres y mujeres\n"
   ]
  },
  {
   "cell_type": "code",
   "execution_count": 2,
   "metadata": {
    "executionInfo": {
     "elapsed": 1644,
     "status": "ok",
     "timestamp": 1696509510368,
     "user": {
      "displayName": "Enrique Camacho",
      "userId": "10085043428175880734"
     },
     "user_tz": 360
    },
    "id": "utvjYCXC1vpZ"
   },
   "outputs": [],
   "source": [
    "import matplotlib.pyplot as plt\n",
    "import numpy as np\n",
    "import pandas as pd\n",
    "import requests\n",
    "import json"
   ]
  },
  {
   "cell_type": "code",
   "execution_count": 3,
   "metadata": {
    "colab": {
     "base_uri": "https://localhost:8080/"
    },
    "executionInfo": {
     "elapsed": 1350,
     "status": "ok",
     "timestamp": 1696509520468,
     "user": {
      "displayName": "Enrique Camacho",
      "userId": "10085043428175880734"
     },
     "user_tz": 360
    },
    "id": "FRSjYNX6zxiF",
    "outputId": "5054ec8f-d21c-438c-d40f-0d87308722aa"
   },
   "outputs": [
    {
     "data": {
      "text/plain": [
       "401"
      ]
     },
     "execution_count": 3,
     "metadata": {},
     "output_type": "execute_result"
    }
   ],
   "source": [
    "#Llamado al API\n",
    "url='https://www.inegi.org.mx/app/api/indicadores/desarrolladores/jsonxml/INDICATOR/1002000001/es/0700/false/BISE/2.0/[TOKEN]?type=json'\n",
    "respuesta = requests.get(url)\n",
    "respuesta.status_code"
   ]
  },
  {
   "cell_type": "code",
   "execution_count": 4,
   "metadata": {
    "executionInfo": {
     "elapsed": 851,
     "status": "ok",
     "timestamp": 1696509537639,
     "user": {
      "displayName": "Enrique Camacho",
      "userId": "10085043428175880734"
     },
     "user_tz": 360
    },
    "id": "GtacGpiy1oRE"
   },
   "outputs": [],
   "source": [
    "url='https://www.inegi.org.mx/app/api/indicadores/desarrolladores/jsonxml/INDICATOR/1002000001/es/0700/false/BISE/2.0/[TOKEN]?type=json'\n",
    "respuesta = requests.get(url)\n",
    "if respuesta.status_code == 200:\n",
    "    print(respuesta.content)"
   ]
  },
  {
   "cell_type": "code",
   "execution_count": null,
   "metadata": {
    "id": "-TelXPcq2SjD"
   },
   "outputs": [],
   "source": []
  },
  {
   "cell_type": "markdown",
   "metadata": {
    "id": "u6o_YtR035iS"
   },
   "source": [
    "## 2. Mostrar en un mapa  el porcentaje de población de 12 años y más económicamente activa por estados.\n",
    "Utilizar alguna gama de color que a continuación se presenta.\n"
   ]
  },
  {
   "cell_type": "markdown",
   "metadata": {
    "id": "GUgkp3174B17"
   },
   "source": [
    "![Imagen](https://docs.google.com/uc?export=download&id=1ttSMxLfUH5-WweB4_US27c4eU_Q7FUH2)  \n"
   ]
  },
  {
   "cell_type": "code",
   "execution_count": null,
   "metadata": {
    "id": "B4hBpuOi35OK"
   },
   "outputs": [],
   "source": []
  }
 ],
 "metadata": {
  "colab": {
   "authorship_tag": "ABX9TyO7Bu/0L3woWpfkvb2XXlzo",
   "provenance": []
  },
  "kernelspec": {
   "display_name": "Python 3 (ipykernel)",
   "language": "python",
   "name": "python3"
  },
  "language_info": {
   "codemirror_mode": {
    "name": "ipython",
    "version": 3
   },
   "file_extension": ".py",
   "mimetype": "text/x-python",
   "name": "python",
   "nbconvert_exporter": "python",
   "pygments_lexer": "ipython3",
   "version": "3.9.13"
  }
 },
 "nbformat": 4,
 "nbformat_minor": 1
}
