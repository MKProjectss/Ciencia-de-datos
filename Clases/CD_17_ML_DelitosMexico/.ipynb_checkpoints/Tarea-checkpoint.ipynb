{
 "cells": [
  {
   "cell_type": "markdown",
   "id": "e4725e12",
   "metadata": {},
   "source": [
    "# Importando librerías"
   ]
  },
  {
   "cell_type": "code",
   "execution_count": 6,
   "id": "8e1aa654",
   "metadata": {},
   "outputs": [],
   "source": [
    "import numpy as np  \n",
    "import pandas as pd \n",
    "import matplotlib.pyplot as plt\n",
    "import seaborn as sns"
   ]
  },
  {
   "cell_type": "markdown",
   "id": "681e60ee",
   "metadata": {},
   "source": [
    "# Obteniendo datos"
   ]
  },
  {
   "cell_type": "code",
   "execution_count": 16,
   "id": "5c2c5579",
   "metadata": {},
   "outputs": [
    {
     "data": {
      "text/html": [
       "<div>\n",
       "<style scoped>\n",
       "    .dataframe tbody tr th:only-of-type {\n",
       "        vertical-align: middle;\n",
       "    }\n",
       "\n",
       "    .dataframe tbody tr th {\n",
       "        vertical-align: top;\n",
       "    }\n",
       "\n",
       "    .dataframe thead th {\n",
       "        text-align: right;\n",
       "    }\n",
       "</style>\n",
       "<table border=\"1\" class=\"dataframe\">\n",
       "  <thead>\n",
       "    <tr style=\"text-align: right;\">\n",
       "      <th></th>\n",
       "      <th>Estados</th>\n",
       "      <th>Homicidio</th>\n",
       "      <th>Delitos_con_violencia</th>\n",
       "      <th>Delitos_con_armas_fuego</th>\n",
       "      <th>Delincuencia_organizada</th>\n",
       "      <th>Carcel_Sin_sentencia</th>\n",
       "      <th>Impacto_economico_de_la_violencia</th>\n",
       "      <th>Impacto_economico_per_capita_de_la_violencia</th>\n",
       "      <th>porcen_pib</th>\n",
       "    </tr>\n",
       "  </thead>\n",
       "  <tbody>\n",
       "    <tr>\n",
       "      <th>0</th>\n",
       "      <td>AGUASCALIENTES</td>\n",
       "      <td>1.368</td>\n",
       "      <td>3.167</td>\n",
       "      <td>1.490</td>\n",
       "      <td>3.425</td>\n",
       "      <td>1.307</td>\n",
       "      <td>51.9</td>\n",
       "      <td>36,158</td>\n",
       "      <td>14.5</td>\n",
       "    </tr>\n",
       "    <tr>\n",
       "      <th>1</th>\n",
       "      <td>BAJA_CALIFORNIA</td>\n",
       "      <td>5.000</td>\n",
       "      <td>3.296</td>\n",
       "      <td>5.000</td>\n",
       "      <td>5.000</td>\n",
       "      <td>2.110</td>\n",
       "      <td>259.6</td>\n",
       "      <td>71,413</td>\n",
       "      <td>31.5</td>\n",
       "    </tr>\n",
       "    <tr>\n",
       "      <th>2</th>\n",
       "      <td>BAJA_CALIFORNIA_SUR</td>\n",
       "      <td>1.554</td>\n",
       "      <td>3.411</td>\n",
       "      <td>1.274</td>\n",
       "      <td>5.000</td>\n",
       "      <td>1.496</td>\n",
       "      <td>28.8</td>\n",
       "      <td>35,761</td>\n",
       "      <td>13.4</td>\n",
       "    </tr>\n",
       "  </tbody>\n",
       "</table>\n",
       "</div>"
      ],
      "text/plain": [
       "               Estados  Homicidio  Delitos_con_violencia  \\\n",
       "0       AGUASCALIENTES      1.368                  3.167   \n",
       "1      BAJA_CALIFORNIA      5.000                  3.296   \n",
       "2  BAJA_CALIFORNIA_SUR      1.554                  3.411   \n",
       "\n",
       "   Delitos_con_armas_fuego  Delincuencia_organizada  Carcel_Sin_sentencia  \\\n",
       "0                    1.490                    3.425                 1.307   \n",
       "1                    5.000                    5.000                 2.110   \n",
       "2                    1.274                    5.000                 1.496   \n",
       "\n",
       "   Impacto_economico_de_la_violencia  \\\n",
       "0                               51.9   \n",
       "1                              259.6   \n",
       "2                               28.8   \n",
       "\n",
       "  Impacto_economico_per_capita_de_la_violencia  porcen_pib  \n",
       "0                                       36,158        14.5  \n",
       "1                                       71,413        31.5  \n",
       "2                                       35,761        13.4  "
      ]
     },
     "execution_count": 16,
     "metadata": {},
     "output_type": "execute_result"
    }
   ],
   "source": [
    "df = pd.read_csv('datos/indice_paz_mex_impacto-economico_2020.csv', encoding='latin1') \n",
    "df.head(3)"
   ]
  },
  {
   "cell_type": "code",
   "execution_count": 18,
   "id": "9181f78a",
   "metadata": {},
   "outputs": [
    {
     "data": {
      "text/html": [
       "<div>\n",
       "<style scoped>\n",
       "    .dataframe tbody tr th:only-of-type {\n",
       "        vertical-align: middle;\n",
       "    }\n",
       "\n",
       "    .dataframe tbody tr th {\n",
       "        vertical-align: top;\n",
       "    }\n",
       "\n",
       "    .dataframe thead th {\n",
       "        text-align: right;\n",
       "    }\n",
       "</style>\n",
       "<table border=\"1\" class=\"dataframe\">\n",
       "  <thead>\n",
       "    <tr style=\"text-align: right;\">\n",
       "      <th></th>\n",
       "      <th>ENTIDAD</th>\n",
       "      <th>IDNAME</th>\n",
       "    </tr>\n",
       "  </thead>\n",
       "  <tbody>\n",
       "    <tr>\n",
       "      <th>0</th>\n",
       "      <td>Aguascalientes</td>\n",
       "      <td>AS</td>\n",
       "    </tr>\n",
       "    <tr>\n",
       "      <th>1</th>\n",
       "      <td>Baja California</td>\n",
       "      <td>BC</td>\n",
       "    </tr>\n",
       "    <tr>\n",
       "      <th>2</th>\n",
       "      <td>Baja California Sur</td>\n",
       "      <td>BS</td>\n",
       "    </tr>\n",
       "    <tr>\n",
       "      <th>3</th>\n",
       "      <td>Campeche</td>\n",
       "      <td>CC</td>\n",
       "    </tr>\n",
       "    <tr>\n",
       "      <th>4</th>\n",
       "      <td>CDMX</td>\n",
       "      <td>DF</td>\n",
       "    </tr>\n",
       "    <tr>\n",
       "      <th>5</th>\n",
       "      <td>Chiapas</td>\n",
       "      <td>CS</td>\n",
       "    </tr>\n",
       "    <tr>\n",
       "      <th>6</th>\n",
       "      <td>Chihuahua</td>\n",
       "      <td>CH</td>\n",
       "    </tr>\n",
       "    <tr>\n",
       "      <th>7</th>\n",
       "      <td>Coahuila</td>\n",
       "      <td>CL</td>\n",
       "    </tr>\n",
       "    <tr>\n",
       "      <th>8</th>\n",
       "      <td>Colima</td>\n",
       "      <td>CM</td>\n",
       "    </tr>\n",
       "    <tr>\n",
       "      <th>9</th>\n",
       "      <td>Durango</td>\n",
       "      <td>DG</td>\n",
       "    </tr>\n",
       "    <tr>\n",
       "      <th>10</th>\n",
       "      <td>Estado de MÃ©xico</td>\n",
       "      <td>MC</td>\n",
       "    </tr>\n",
       "    <tr>\n",
       "      <th>11</th>\n",
       "      <td>Guanajuato</td>\n",
       "      <td>GT</td>\n",
       "    </tr>\n",
       "    <tr>\n",
       "      <th>12</th>\n",
       "      <td>Guerrero</td>\n",
       "      <td>GR</td>\n",
       "    </tr>\n",
       "    <tr>\n",
       "      <th>13</th>\n",
       "      <td>Hidalgo</td>\n",
       "      <td>HG</td>\n",
       "    </tr>\n",
       "    <tr>\n",
       "      <th>14</th>\n",
       "      <td>Jalisco</td>\n",
       "      <td>JC</td>\n",
       "    </tr>\n",
       "    <tr>\n",
       "      <th>15</th>\n",
       "      <td>MichoacÃ¡n</td>\n",
       "      <td>MN</td>\n",
       "    </tr>\n",
       "    <tr>\n",
       "      <th>16</th>\n",
       "      <td>Morelos</td>\n",
       "      <td>MS</td>\n",
       "    </tr>\n",
       "    <tr>\n",
       "      <th>17</th>\n",
       "      <td>Nayarit</td>\n",
       "      <td>NT</td>\n",
       "    </tr>\n",
       "    <tr>\n",
       "      <th>18</th>\n",
       "      <td>Nuevo LeÃ³n</td>\n",
       "      <td>NL</td>\n",
       "    </tr>\n",
       "    <tr>\n",
       "      <th>19</th>\n",
       "      <td>Oaxaca</td>\n",
       "      <td>OC</td>\n",
       "    </tr>\n",
       "    <tr>\n",
       "      <th>20</th>\n",
       "      <td>Puebla</td>\n",
       "      <td>PL</td>\n",
       "    </tr>\n",
       "    <tr>\n",
       "      <th>21</th>\n",
       "      <td>QuerÃ©taro</td>\n",
       "      <td>QT</td>\n",
       "    </tr>\n",
       "    <tr>\n",
       "      <th>22</th>\n",
       "      <td>Quintana Roo</td>\n",
       "      <td>QR</td>\n",
       "    </tr>\n",
       "    <tr>\n",
       "      <th>23</th>\n",
       "      <td>San Luis PotosÃ­</td>\n",
       "      <td>SP</td>\n",
       "    </tr>\n",
       "    <tr>\n",
       "      <th>24</th>\n",
       "      <td>Sinaloa</td>\n",
       "      <td>SL</td>\n",
       "    </tr>\n",
       "    <tr>\n",
       "      <th>25</th>\n",
       "      <td>Sonora</td>\n",
       "      <td>SR</td>\n",
       "    </tr>\n",
       "    <tr>\n",
       "      <th>26</th>\n",
       "      <td>Tabasco</td>\n",
       "      <td>TC</td>\n",
       "    </tr>\n",
       "    <tr>\n",
       "      <th>27</th>\n",
       "      <td>Tamaulipas</td>\n",
       "      <td>TS</td>\n",
       "    </tr>\n",
       "    <tr>\n",
       "      <th>28</th>\n",
       "      <td>Tlaxcala</td>\n",
       "      <td>TL</td>\n",
       "    </tr>\n",
       "    <tr>\n",
       "      <th>29</th>\n",
       "      <td>Veracruz</td>\n",
       "      <td>VZ</td>\n",
       "    </tr>\n",
       "    <tr>\n",
       "      <th>30</th>\n",
       "      <td>YucatÃ¡n</td>\n",
       "      <td>YN</td>\n",
       "    </tr>\n",
       "    <tr>\n",
       "      <th>31</th>\n",
       "      <td>Zacatecas</td>\n",
       "      <td>ZS</td>\n",
       "    </tr>\n",
       "  </tbody>\n",
       "</table>\n",
       "</div>"
      ],
      "text/plain": [
       "                ENTIDAD IDNAME\n",
       "0        Aguascalientes     AS\n",
       "1       Baja California     BC\n",
       "2   Baja California Sur     BS\n",
       "3              Campeche     CC\n",
       "4                  CDMX     DF\n",
       "5               Chiapas     CS\n",
       "6             Chihuahua     CH\n",
       "7              Coahuila     CL\n",
       "8                Colima     CM\n",
       "9               Durango     DG\n",
       "10    Estado de MÃ©xico     MC\n",
       "11           Guanajuato     GT\n",
       "12             Guerrero     GR\n",
       "13              Hidalgo     HG\n",
       "14              Jalisco     JC\n",
       "15           MichoacÃ¡n     MN\n",
       "16              Morelos     MS\n",
       "17              Nayarit     NT\n",
       "18          Nuevo LeÃ³n     NL\n",
       "19               Oaxaca     OC\n",
       "20               Puebla     PL\n",
       "21           QuerÃ©taro     QT\n",
       "22         Quintana Roo     QR\n",
       "23     San Luis PotosÃ­     SP\n",
       "24              Sinaloa     SL\n",
       "25               Sonora     SR\n",
       "26              Tabasco     TC\n",
       "27           Tamaulipas     TS\n",
       "28             Tlaxcala     TL\n",
       "29             Veracruz     VZ\n",
       "30             YucatÃ¡n     YN\n",
       "31            Zacatecas     ZS"
      ]
     },
     "execution_count": 18,
     "metadata": {},
     "output_type": "execute_result"
    }
   ],
   "source": [
    "#Cargamos el archivo ddatos/estados_id.csv en un DataFrame llamado df_estados\n",
    "df_estados = pd.read_csv('datos/estados_id.csv',encoding='Latin-1') \n",
    "df_estados"
   ]
  },
  {
   "cell_type": "code",
   "execution_count": 23,
   "id": "b002c98e",
   "metadata": {},
   "outputs": [],
   "source": [
    "df_estados['ENTIDAD'] = 'CDMX'"
   ]
  },
  {
   "cell_type": "code",
   "execution_count": null,
   "id": "6f95484e",
   "metadata": {},
   "outputs": [],
   "source": [
    "df.dtypes"
   ]
  },
  {
   "cell_type": "code",
   "execution_count": null,
   "id": "f9cf78fc",
   "metadata": {},
   "outputs": [],
   "source": [
    "df['Impacto_economico_per_capita_de_la_violencia'] = pd.to_numeric(df['Impacto_economico_per_capita_de_la_violencia'].str.replace(',', ''))\n",
    "df.dtypes"
   ]
  },
  {
   "cell_type": "code",
   "execution_count": null,
   "id": "90369890",
   "metadata": {},
   "outputs": [],
   "source": [
    "df.head(2)"
   ]
  },
  {
   "cell_type": "code",
   "execution_count": null,
   "id": "d5ef3bfb",
   "metadata": {},
   "outputs": [],
   "source": [
    "#Principales parámetros estadísticos\n",
    "df.describe().transpose()"
   ]
  },
  {
   "cell_type": "code",
   "execution_count": null,
   "id": "0fcc41e5",
   "metadata": {},
   "outputs": [],
   "source": [
    "# Correlación lineal de variables\n",
    "sns.pairplot(df, kind=\"reg\",  height=3 , aspect=1)"
   ]
  },
  {
   "cell_type": "code",
   "execution_count": null,
   "id": "64089dcc",
   "metadata": {},
   "outputs": [],
   "source": [
    "#Selección de caracteristicas para llevar a cabo el agrupamiento\n",
    "features = ['Homicidio', 'Delitos_con_violencia', 'Delitos_con_armas_fuego', \n",
    "            'Delincuencia_organizada', 'Impacto_economico_de_la_violencia']"
   ]
  },
  {
   "cell_type": "code",
   "execution_count": null,
   "id": "06460601",
   "metadata": {},
   "outputs": [],
   "source": [
    "#Re-esalamiento de variables\n",
    "from sklearn import preprocessing\n",
    "df_standardized = preprocessing.scale(df[features])"
   ]
  },
  {
   "cell_type": "code",
   "execution_count": null,
   "id": "00c80dde",
   "metadata": {},
   "outputs": [],
   "source": [
    "# Data frame que servirá para la predicción de grupos\n",
    "df_standardized = pd.DataFrame(df_standardized)\n",
    "df_standardized.head()"
   ]
  },
  {
   "cell_type": "code",
   "execution_count": null,
   "id": "14626dd6",
   "metadata": {},
   "outputs": [],
   "source": [
    "# Llamamos al algoritmo y lo ejecutamos  para 1 cluster\n",
    "from sklearn.cluster import KMeans\n",
    "kmeans = KMeans(n_clusters = 1, init = 'k-means++', random_state = 42)\n",
    "kmeans.fit(df_standardized)\n",
    "# Valor de WCSS\n",
    "kmeans.inertia_"
   ]
  },
  {
   "cell_type": "markdown",
   "id": "dd8e9afd",
   "metadata": {},
   "source": [
    "# Método del codo"
   ]
  },
  {
   "cell_type": "code",
   "execution_count": null,
   "id": "65b1c02b",
   "metadata": {},
   "outputs": [],
   "source": [
    "# Se obtienen los diferentes valores de WCSS \n",
    "wcss = []\n",
    "for i in range(1, 20):\n",
    "    kmeans = KMeans(n_clusters = i, init = 'k-means++', random_state = 42)\n",
    "    kmeans.fit(df_standardized)\n",
    "    wcss.append(kmeans.inertia_)"
   ]
  },
  {
   "cell_type": "code",
   "execution_count": null,
   "id": "a0efea68",
   "metadata": {},
   "outputs": [],
   "source": [
    "wcss"
   ]
  },
  {
   "cell_type": "markdown",
   "id": "50ca7a0c",
   "metadata": {},
   "source": [
    "## Grafica de los valores de WCSS "
   ]
  },
  {
   "cell_type": "code",
   "execution_count": null,
   "id": "7ab2a1dc",
   "metadata": {},
   "outputs": [],
   "source": [
    "plt.figure(figsize=(10, 6))\n",
    "plt.plot(range(1, 20), wcss,\"go--\")\n",
    "plt.title('The Elbow Method')\n",
    "plt.xlabel('Number of clusters')\n",
    "plt.ylabel('WCSS')\n",
    "plt.show()"
   ]
  },
  {
   "cell_type": "markdown",
   "id": "744714d3",
   "metadata": {},
   "source": [
    "# Metodo Silhouette"
   ]
  },
  {
   "cell_type": "code",
   "execution_count": null,
   "id": "82370993",
   "metadata": {},
   "outputs": [],
   "source": [
    "from sklearn.metrics import silhouette_samples, silhouette_score"
   ]
  },
  {
   "cell_type": "code",
   "execution_count": null,
   "id": "afe34400",
   "metadata": {},
   "outputs": [],
   "source": [
    "silhouette_score(df_standardized,  kmeans.labels_)"
   ]
  },
  {
   "cell_type": "code",
   "execution_count": null,
   "id": "b05742d6",
   "metadata": {},
   "outputs": [],
   "source": [
    "#creamos una lista de modelos de K-Means de un determinado número de clusters llamado kmeans2_sil\n",
    "kmeans2_sil= [KMeans(n_clusters=i, random_state=11, init='k-means++').fit(df_standardized) for i in range(1,13)]\n",
    "\n",
    "#calculamos el silhouette score a cada modelo (de diferente número de clusters)\n",
    "sil_values = [ silhouette_score(df_standardized, model.labels_, random_state=11)\n",
    "                    for model in kmeans2_sil[1:]\n",
    "                   ]\n",
    "#Guardamos los valores de los coeficientes en un arreglo de numpy\n",
    "sil_values = np.array( sil_values )\n",
    "sil_values"
   ]
  },
  {
   "cell_type": "code",
   "execution_count": null,
   "id": "0c924a56",
   "metadata": {},
   "outputs": [],
   "source": [
    "plt.figure( figsize=(10.5,6)       )\n",
    "\n",
    "plt.plot(range(2, 13), sil_values,\n",
    "         linestyle = ':', linewidth = 1.5,\n",
    "         marker = 'o', markersize = 10,\n",
    "         color = '#2F968B' ,\n",
    "         label = 'The Silhoutte Method'\n",
    "        )\n",
    "\n",
    "#Maquillar la gráfica\n",
    "plt.title('The Silhouette Method', size = 25, pad = 10)\n",
    "plt.xlabel('Number of clusters', size = 20)\n",
    "plt.ylabel('Silhoutte Coefficent', size = 20)\n",
    "plt.tick_params( labelsize = 15 )\n",
    "\n",
    "plt.grid(linestyle = 'dashed', alpha = 0.5 )\n",
    "\n",
    "plt.show()"
   ]
  },
  {
   "cell_type": "code",
   "execution_count": null,
   "id": "f8cd334a",
   "metadata": {},
   "outputs": [],
   "source": [
    "print( 'El valor máximo es:', sil_values[ np.argmax(sil_values) ] )\n",
    "print( 'El número óptimo de clusters es:', np.argmax(sil_values) + 1 + 1 )"
   ]
  },
  {
   "cell_type": "code",
   "execution_count": null,
   "id": "6646ebbc",
   "metadata": {},
   "outputs": [],
   "source": []
  }
 ],
 "metadata": {
  "kernelspec": {
   "display_name": "Python 3 (ipykernel)",
   "language": "python",
   "name": "python3"
  },
  "language_info": {
   "codemirror_mode": {
    "name": "ipython",
    "version": 3
   },
   "file_extension": ".py",
   "mimetype": "text/x-python",
   "name": "python",
   "nbconvert_exporter": "python",
   "pygments_lexer": "ipython3",
   "version": "3.9.13"
  }
 },
 "nbformat": 4,
 "nbformat_minor": 5
}
