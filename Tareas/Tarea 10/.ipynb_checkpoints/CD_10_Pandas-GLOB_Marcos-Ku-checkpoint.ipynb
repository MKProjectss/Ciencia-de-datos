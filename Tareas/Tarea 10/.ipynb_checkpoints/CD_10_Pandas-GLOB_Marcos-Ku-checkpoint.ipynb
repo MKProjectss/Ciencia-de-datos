{
 "cells": [
  {
   "cell_type": "markdown",
   "metadata": {},
   "source": [
    "<!--Información del curso-->\n",
    "<img align=\"left\" style=\"padding-right:10px;\" src=\"figuras/logo_ciencia_datos.png\">"
   ]
  },
  {
   "cell_type": "markdown",
   "metadata": {},
   "source": [
    "<center><h1 style=\"font-size:2em;color:#2467C0\"> Pandas y GLOB  </h1></center>\n",
    "\n",
    "<center><h2 style=\"font-size:2em;color:#840700\">   Manipulación de archivos con GLOB </h4></center>\n",
    "\n",
    "<br>\n",
    "<table>\n",
    "<col width=\"250\">\n",
    "<col width=\"750\">\n",
    "<tr>\n",
    "<td><img src=\"figuras/glob.png\" align=\"left\" style=\"width:150px\"/></td>\n",
    "<td>\n",
    "\n",
    "La función **glob.glob()** devuelve una lista con las entradas que coincidan con el patrón especificado en *pathname*.\n",
    "\n",
    "**glob.glob( *pathname* , recursive=False)** \n",
    "    \n",
    "<br>\n",
    "</td>\n",
    "</tr>\n",
    "</table>"
   ]
  },
  {
   "cell_type": "markdown",
   "metadata": {},
   "source": [
    "## Integrantes\n",
    "\n",
    "Nombre 1: Marcos Alonso Kú Maás\n",
    "\n",
    "Nombre 2:"
   ]
  },
  {
   "cell_type": "markdown",
   "metadata": {},
   "source": [
    "# Librerías\n",
    "\n",
    "Cargando las bibliotecas que necesitamos \n"
   ]
  },
  {
   "cell_type": "code",
   "execution_count": 1,
   "metadata": {},
   "outputs": [],
   "source": [
    "import pandas as pd\n",
    "import numpy as np\n",
    "import matplotlib.pyplot as plt\n",
    "import glob"
   ]
  },
  {
   "cell_type": "markdown",
   "metadata": {},
   "source": [
    "## Mostrando todos los archivos de \"/datos\"\n",
    "\n",
    "La salida serán los archivos en forma de lista"
   ]
  },
  {
   "cell_type": "code",
   "execution_count": 2,
   "metadata": {},
   "outputs": [
    {
     "data": {
      "text/plain": [
       "['datos\\\\informacion.txt',\n",
       " 'datos\\\\semestre1a.csv',\n",
       " 'datos\\\\semestre1b.csv',\n",
       " 'datos\\\\semestre1c.csv',\n",
       " 'datos\\\\semestre2a.csv',\n",
       " 'datos\\\\semestre2b.csv',\n",
       " 'datos\\\\semestre2c.csv',\n",
       " 'datos\\\\semestre3a.csv',\n",
       " 'datos\\\\semestre3b.csv',\n",
       " 'datos\\\\semestre3c.csv',\n",
       " 'datos\\\\semestres.txt',\n",
       " 'datos\\\\Ventas']"
      ]
     },
     "execution_count": 2,
     "metadata": {},
     "output_type": "execute_result"
    }
   ],
   "source": [
    "# establecer ruta de búsqueda  \n",
    "path = 'datos'\n",
    "files = glob.glob(path + '/*')\n",
    "files"
   ]
  },
  {
   "cell_type": "markdown",
   "metadata": {},
   "source": [
    "## Mostrando  los archivos  **.txt** de \"/datos\"\n",
    "\n",
    "La salida serán los archivos .txt en forma de lista"
   ]
  },
  {
   "cell_type": "code",
   "execution_count": 3,
   "metadata": {},
   "outputs": [
    {
     "data": {
      "text/plain": [
       "['datos\\\\informacion.txt', 'datos\\\\semestres.txt']"
      ]
     },
     "execution_count": 3,
     "metadata": {},
     "output_type": "execute_result"
    }
   ],
   "source": [
    "# establecer ruta de búsqueda  \n",
    "# aquí queremos buscar archivos txt  \n",
    "path = 'datos'\n",
    "files = glob.glob(path + '/*.txt')\n",
    "files"
   ]
  },
  {
   "cell_type": "markdown",
   "metadata": {},
   "source": [
    "## Mostrando  los archivos .csv de \"/datos\"\n",
    "\n",
    "La salida serán los archivos .csv en forma de lista"
   ]
  },
  {
   "cell_type": "code",
   "execution_count": 4,
   "metadata": {},
   "outputs": [
    {
     "data": {
      "text/plain": [
       "['datos\\\\semestre1a.csv',\n",
       " 'datos\\\\semestre1b.csv',\n",
       " 'datos\\\\semestre1c.csv',\n",
       " 'datos\\\\semestre2a.csv',\n",
       " 'datos\\\\semestre2b.csv',\n",
       " 'datos\\\\semestre2c.csv',\n",
       " 'datos\\\\semestre3a.csv',\n",
       " 'datos\\\\semestre3b.csv',\n",
       " 'datos\\\\semestre3c.csv']"
      ]
     },
     "execution_count": 4,
     "metadata": {},
     "output_type": "execute_result"
    }
   ],
   "source": [
    "# establecer ruta de búsqueda  \n",
    "# aquí queremos buscar archivos csv  \n",
    "path = 'datos'\n",
    "files = glob.glob(path + '/*.csv')\n",
    "files"
   ]
  },
  {
   "cell_type": "markdown",
   "metadata": {},
   "source": [
    "## Concatenando todos los archivos .csv para formar un dataframe\n"
   ]
  },
  {
   "cell_type": "code",
   "execution_count": 5,
   "metadata": {},
   "outputs": [
    {
     "name": "stdout",
     "output_type": "stream",
     "text": [
      "['datos\\\\semestre1a.csv', 'datos\\\\semestre1b.csv', 'datos\\\\semestre1c.csv', 'datos\\\\semestre2a.csv', 'datos\\\\semestre2b.csv', 'datos\\\\semestre2c.csv', 'datos\\\\semestre3a.csv', 'datos\\\\semestre3b.csv', 'datos\\\\semestre3c.csv']\n",
      "(10, 5)\n",
      "(11, 5)\n",
      "(11, 5)\n",
      "(7, 5)\n",
      "(7, 5)\n",
      "(7, 5)\n",
      "(5, 5)\n",
      "(6, 5)\n",
      "(5, 5)\n",
      "final (69, 5)\n"
     ]
    }
   ],
   "source": [
    "# establecer ruta de búsqueda  \n",
    "# aquí queremos buscar archivos csv  \n",
    "path = 'datos'\n",
    "files = glob.glob(path + '/*.csv')\n",
    "print(files)\n",
    "# crear una lista vacía para almacenar  los dataframes\n",
    "lista_dfs = []\n",
    "# recorrer la lista de archivos para crear la lista de archivos \n",
    "for file in files:\n",
    "    temp_df = pd.read_csv(file)\n",
    "    print(temp_df.shape)\n",
    "    lista_dfs.append(temp_df)\n",
    "\n",
    "df = pd.concat(lista_dfs, axis = 0)\n",
    "df.head()\n",
    "print('final', df.shape)\n",
    "\n",
    "# concatenación\n"
   ]
  },
  {
   "cell_type": "markdown",
   "metadata": {},
   "source": [
    "## Concatenando los archivos .csv del primer semestre \n",
    "\n",
    "El comodín * representa desde nada, hasta cualquier cantidad de caracteres y dígitos"
   ]
  },
  {
   "cell_type": "code",
   "execution_count": 6,
   "metadata": {},
   "outputs": [
    {
     "name": "stdout",
     "output_type": "stream",
     "text": [
      "(10, 5)\n",
      "(11, 5)\n",
      "(11, 5)\n",
      "final (32, 5)\n"
     ]
    }
   ],
   "source": [
    "# establecer ruta de búsqueda  \n",
    "# aquí queremos buscar archivos csv  \n",
    "path = 'datos'\n",
    "files = glob.glob(path + '/semestre1?.csv')\n",
    "# crear una lista vacía para almacenar  los dataframes\n",
    "lista_dfs = []\n",
    "# recorrer la lista de archivos para crear la lista de archivos \n",
    "for file in files:\n",
    "    temp_df = pd.read_csv(file)\n",
    "    print(temp_df.shape)\n",
    "    lista_dfs.append(temp_df)\n",
    "\n",
    "df = pd.concat(lista_dfs, axis = 0)\n",
    "df.head()\n",
    "print('final', df.shape)\n",
    "\n",
    "\n",
    "# concatenación\n"
   ]
  },
  {
   "cell_type": "markdown",
   "metadata": {},
   "source": [
    "## Concatenando los archivos .csv del primer y segundo semestre \n",
    "\n",
    "El comodín **[ ]**  representa un rango,  ya sea de caracteres o de números. "
   ]
  },
  {
   "cell_type": "code",
   "execution_count": 7,
   "metadata": {},
   "outputs": [
    {
     "name": "stdout",
     "output_type": "stream",
     "text": [
      "['datos\\\\semestre1a.csv', 'datos\\\\semestre1b.csv', 'datos\\\\semestre1c.csv', 'datos\\\\semestre2a.csv', 'datos\\\\semestre2b.csv', 'datos\\\\semestre2c.csv']\n",
      "(10, 5)\n",
      "(11, 5)\n",
      "(11, 5)\n",
      "(7, 5)\n",
      "(7, 5)\n",
      "(7, 5)\n",
      "final (53, 5)\n"
     ]
    }
   ],
   "source": [
    "# establecer ruta de búsqueda  \n",
    "# aquí queremos buscar archivos csv  \n",
    "path = 'datos'\n",
    "files = glob.glob(path + '/semestre[1-2]?.csv')\n",
    "print(files)\n",
    "# crear una lista vacía para almacenar  los dataframes\n",
    "lista_dfs = []\n",
    "# recorrer la lista de archivos para crear la lista de archivos \n",
    "for file in files:\n",
    "    temp_df = pd.read_csv(file)\n",
    "    print(temp_df.shape)\n",
    "    lista_dfs.append(temp_df)\n",
    "\n",
    "df = pd.concat(lista_dfs, axis = 0)\n",
    "df.head()\n",
    "print('final', df.shape)\n",
    "# concatenación\n",
    "\n"
   ]
  },
  {
   "cell_type": "markdown",
   "metadata": {},
   "source": [
    "## Concatenando los archivos .csv de los grupos \"a\"\n",
    "El comodín **?** Representa un único carácter."
   ]
  },
  {
   "cell_type": "code",
   "execution_count": 8,
   "metadata": {},
   "outputs": [
    {
     "name": "stdout",
     "output_type": "stream",
     "text": [
      "['datos\\\\semestre1a.csv', 'datos\\\\semestre2a.csv', 'datos\\\\semestre3a.csv']\n",
      "(10, 5)\n",
      "(7, 5)\n",
      "(5, 5)\n",
      "final (22, 5)\n"
     ]
    }
   ],
   "source": [
    "# establecer ruta de búsqueda  \n",
    "# aquí queremos buscar archivos csv  \n",
    "path = 'datos'\n",
    "files = glob.glob(path + '/semestre?a.csv')\n",
    "print(files)\n",
    "# crear una lista vacía para almacenar  los dataframes\n",
    "lista_dfs = []\n",
    "# recorrer la lista de archivos para crear la lista de archivos \n",
    "for file in files:\n",
    "    temp_df = pd.read_csv(file)\n",
    "    print(temp_df.shape)\n",
    "    lista_dfs.append(temp_df)\n",
    "\n",
    "df = pd.concat(lista_dfs, axis = 0)\n",
    "df.head()\n",
    "print('final', df.shape)\n"
   ]
  },
  {
   "cell_type": "markdown",
   "metadata": {},
   "source": [
    "## Concatenando los archivos .csv de los grupos \"a\" y \"b\"\n",
    "\n",
    "El comodín **[ ]**  representa un rango,  ya sea de caracteres o de números. "
   ]
  },
  {
   "cell_type": "code",
   "execution_count": 9,
   "metadata": {},
   "outputs": [
    {
     "name": "stdout",
     "output_type": "stream",
     "text": [
      "['datos\\\\semestre1a.csv', 'datos\\\\semestre1b.csv', 'datos\\\\semestre2a.csv', 'datos\\\\semestre2b.csv', 'datos\\\\semestre3a.csv', 'datos\\\\semestre3b.csv']\n",
      "(10, 5)\n",
      "(11, 5)\n",
      "(7, 5)\n",
      "(7, 5)\n",
      "(5, 5)\n",
      "(6, 5)\n",
      "final (46, 5)\n"
     ]
    }
   ],
   "source": [
    "# establecer ruta de búsqueda  \n",
    "# aquí queremos buscar archivos csv  \n",
    "path = 'datos'\n",
    "files = glob.glob(path + '/semestre?[a-b].csv')\n",
    "print(files)\n",
    "# crear una lista vacía para almacenar  los dataframes\n",
    "lista_dfs = []\n",
    "# recorrer la lista de archivos para crear la lista de archivos \n",
    "for file in files:\n",
    "    temp_df = pd.read_csv(file)\n",
    "    print(temp_df.shape)\n",
    "    lista_dfs.append(temp_df)\n",
    "\n",
    "df = pd.concat(lista_dfs, axis = 0)\n",
    "df.head()\n",
    "print('final', df.shape)\n",
    "# concatenación\n",
    "\n"
   ]
  },
  {
   "cell_type": "markdown",
   "metadata": {},
   "source": [
    "# TAREA"
   ]
  },
  {
   "cell_type": "markdown",
   "metadata": {},
   "source": [
    "<div class=\"alert alert-success\">\n",
    "<b>EJERCICIO 1: Concatenar todos los archivos  .csv  </b>:\n",
    "\n",
    " <ul>\n",
    "  <li> a) Encontrar el promedio y   desviación estándar  </li>\n",
    "  <li> b) Datos del estudiante(s) con la calificación más alta </li>   \n",
    "  <li> c) Datos del estudiante(s) con la calificación más baja </li>  \n",
    "  <li> d) El nombre que más se repite </li>  \n",
    "  <li> e) El apellido que más se repite </li>       \n",
    "     \n",
    "</ul>\n",
    "</div>"
   ]
  },
  {
   "cell_type": "code",
   "execution_count": 10,
   "metadata": {},
   "outputs": [
    {
     "data": {
      "text/html": [
       "<div>\n",
       "<style scoped>\n",
       "    .dataframe tbody tr th:only-of-type {\n",
       "        vertical-align: middle;\n",
       "    }\n",
       "\n",
       "    .dataframe tbody tr th {\n",
       "        vertical-align: top;\n",
       "    }\n",
       "\n",
       "    .dataframe thead th {\n",
       "        text-align: right;\n",
       "    }\n",
       "</style>\n",
       "<table border=\"1\" class=\"dataframe\">\n",
       "  <thead>\n",
       "    <tr style=\"text-align: right;\">\n",
       "      <th></th>\n",
       "      <th>NOMBRE</th>\n",
       "      <th>APELLIDO</th>\n",
       "      <th>CALIFICACION</th>\n",
       "      <th>CARRERA</th>\n",
       "      <th>CIUDAD</th>\n",
       "    </tr>\n",
       "  </thead>\n",
       "  <tbody>\n",
       "    <tr>\n",
       "      <th>0</th>\n",
       "      <td>ENRIQUE</td>\n",
       "      <td>MORENO</td>\n",
       "      <td>40</td>\n",
       "      <td>RENOVABLES</td>\n",
       "      <td>MERIDA</td>\n",
       "    </tr>\n",
       "    <tr>\n",
       "      <th>1</th>\n",
       "      <td>AMPARO</td>\n",
       "      <td>CABALLERO</td>\n",
       "      <td>63</td>\n",
       "      <td>RENOVABLES</td>\n",
       "      <td>MERIDA</td>\n",
       "    </tr>\n",
       "    <tr>\n",
       "      <th>2</th>\n",
       "      <td>MARTA</td>\n",
       "      <td>BALAM</td>\n",
       "      <td>94</td>\n",
       "      <td>MECATRONICA</td>\n",
       "      <td>MERIDA</td>\n",
       "    </tr>\n",
       "    <tr>\n",
       "      <th>3</th>\n",
       "      <td>JULIA</td>\n",
       "      <td>ORTIZ</td>\n",
       "      <td>86</td>\n",
       "      <td>RENOVABLES</td>\n",
       "      <td>UMAN</td>\n",
       "    </tr>\n",
       "    <tr>\n",
       "      <th>4</th>\n",
       "      <td>PASCUAL</td>\n",
       "      <td>MAY</td>\n",
       "      <td>58</td>\n",
       "      <td>FISICA</td>\n",
       "      <td>MERIDA</td>\n",
       "    </tr>\n",
       "  </tbody>\n",
       "</table>\n",
       "</div>"
      ],
      "text/plain": [
       "    NOMBRE   APELLIDO  CALIFICACION      CARRERA  CIUDAD\n",
       "0  ENRIQUE     MORENO            40   RENOVABLES  MERIDA\n",
       "1   AMPARO  CABALLERO            63   RENOVABLES  MERIDA\n",
       "2    MARTA      BALAM            94  MECATRONICA  MERIDA\n",
       "3    JULIA      ORTIZ            86   RENOVABLES    UMAN\n",
       "4  PASCUAL        MAY            58       FISICA  MERIDA"
      ]
     },
     "execution_count": 10,
     "metadata": {},
     "output_type": "execute_result"
    }
   ],
   "source": [
    "path = 'datos'\n",
    "files = glob.glob(path + '/*.csv')\n",
    "# crear una lista vacía para almacenar  los dataframes\n",
    "lista_dfs = []\n",
    "# recorrer la lista de archivos para crear la lista de archivos \n",
    "for file in files:\n",
    "    temp_df = pd.read_csv(file)\n",
    "    lista_dfs.append(temp_df)\n",
    "\n",
    "df = pd.concat(lista_dfs, axis = 0)\n",
    "df.head()"
   ]
  },
  {
   "cell_type": "code",
   "execution_count": 11,
   "metadata": {},
   "outputs": [
    {
     "name": "stdout",
     "output_type": "stream",
     "text": [
      "\n",
      "----------------------------------\n",
      "- Promedio 81.7246\n",
      "- Desviacion estandar: 18.7239\n",
      "----------------------------------\n",
      "\n"
     ]
    }
   ],
   "source": [
    "# Encontrar el promedio y desviación estándar\n",
    "print(f'''\n",
    "----------------------------------\n",
    "- Promedio {round(df['CALIFICACION'].mean(), 4)}\n",
    "- Desviacion estandar: {round(df['CALIFICACION'].std(), 4)}\n",
    "----------------------------------\n",
    "''')"
   ]
  },
  {
   "cell_type": "code",
   "execution_count": 12,
   "metadata": {
    "scrolled": true
   },
   "outputs": [
    {
     "data": {
      "text/html": [
       "<div>\n",
       "<style scoped>\n",
       "    .dataframe tbody tr th:only-of-type {\n",
       "        vertical-align: middle;\n",
       "    }\n",
       "\n",
       "    .dataframe tbody tr th {\n",
       "        vertical-align: top;\n",
       "    }\n",
       "\n",
       "    .dataframe thead th {\n",
       "        text-align: right;\n",
       "    }\n",
       "</style>\n",
       "<table border=\"1\" class=\"dataframe\">\n",
       "  <thead>\n",
       "    <tr style=\"text-align: right;\">\n",
       "      <th></th>\n",
       "      <th>NOMBRE</th>\n",
       "      <th>APELLIDO</th>\n",
       "      <th>CALIFICACION</th>\n",
       "      <th>CARRERA</th>\n",
       "      <th>CIUDAD</th>\n",
       "    </tr>\n",
       "  </thead>\n",
       "  <tbody>\n",
       "    <tr>\n",
       "      <th>1</th>\n",
       "      <td>JUAN</td>\n",
       "      <td>BALAM</td>\n",
       "      <td>100</td>\n",
       "      <td>FISICA</td>\n",
       "      <td>MOTUL</td>\n",
       "    </tr>\n",
       "    <tr>\n",
       "      <th>2</th>\n",
       "      <td>RICK</td>\n",
       "      <td>SANCHEZ</td>\n",
       "      <td>100</td>\n",
       "      <td>FISICA</td>\n",
       "      <td>MERIDA</td>\n",
       "    </tr>\n",
       "  </tbody>\n",
       "</table>\n",
       "</div>"
      ],
      "text/plain": [
       "  NOMBRE APELLIDO  CALIFICACION CARRERA  CIUDAD\n",
       "1   JUAN    BALAM           100  FISICA   MOTUL\n",
       "2   RICK  SANCHEZ           100  FISICA  MERIDA"
      ]
     },
     "execution_count": 12,
     "metadata": {},
     "output_type": "execute_result"
    }
   ],
   "source": [
    "# b) Datos del estudiante(s) con la calificación más alta\n",
    "df[df['CALIFICACION'] == df['CALIFICACION'].max()]"
   ]
  },
  {
   "cell_type": "code",
   "execution_count": 13,
   "metadata": {},
   "outputs": [
    {
     "data": {
      "text/html": [
       "<div>\n",
       "<style scoped>\n",
       "    .dataframe tbody tr th:only-of-type {\n",
       "        vertical-align: middle;\n",
       "    }\n",
       "\n",
       "    .dataframe tbody tr th {\n",
       "        vertical-align: top;\n",
       "    }\n",
       "\n",
       "    .dataframe thead th {\n",
       "        text-align: right;\n",
       "    }\n",
       "</style>\n",
       "<table border=\"1\" class=\"dataframe\">\n",
       "  <thead>\n",
       "    <tr style=\"text-align: right;\">\n",
       "      <th></th>\n",
       "      <th>NOMBRE</th>\n",
       "      <th>APELLIDO</th>\n",
       "      <th>CALIFICACION</th>\n",
       "      <th>CARRERA</th>\n",
       "      <th>CIUDAD</th>\n",
       "    </tr>\n",
       "  </thead>\n",
       "  <tbody>\n",
       "    <tr>\n",
       "      <th>6</th>\n",
       "      <td>VICENTE</td>\n",
       "      <td>CABALLERO</td>\n",
       "      <td>8</td>\n",
       "      <td>MECATRONICA</td>\n",
       "      <td>MERIDA</td>\n",
       "    </tr>\n",
       "  </tbody>\n",
       "</table>\n",
       "</div>"
      ],
      "text/plain": [
       "    NOMBRE   APELLIDO  CALIFICACION      CARRERA  CIUDAD\n",
       "6  VICENTE  CABALLERO             8  MECATRONICA  MERIDA"
      ]
     },
     "execution_count": 13,
     "metadata": {},
     "output_type": "execute_result"
    }
   ],
   "source": [
    "# c) Datos del estudiante(s) con la calificación más baja\n",
    "df[df['CALIFICACION'] == df['CALIFICACION'].min()]"
   ]
  },
  {
   "cell_type": "code",
   "execution_count": 14,
   "metadata": {},
   "outputs": [
    {
     "data": {
      "text/plain": [
       "PEDRO    4\n",
       "MARIA    4\n",
       "Name: NOMBRE, dtype: int64"
      ]
     },
     "execution_count": 14,
     "metadata": {},
     "output_type": "execute_result"
    }
   ],
   "source": [
    "# d) El nombre que más se repite\n",
    "nombre_mas_repeticiones = df['NOMBRE'].value_counts()\n",
    "nombre_mas_repeticiones[nombre_mas_repeticiones == nombre_mas_repeticiones.max()]"
   ]
  },
  {
   "cell_type": "code",
   "execution_count": 15,
   "metadata": {},
   "outputs": [
    {
     "data": {
      "text/plain": [
       "BALAM    4\n",
       "MAY      4\n",
       "Name: APELLIDO, dtype: int64"
      ]
     },
     "execution_count": 15,
     "metadata": {},
     "output_type": "execute_result"
    }
   ],
   "source": [
    "# e) El apellido que más se repite\n",
    "apellido_mas_repeticiones = df['APELLIDO'].value_counts()\n",
    "apellido_mas_repeticiones[apellido_mas_repeticiones == apellido_mas_repeticiones.max()]"
   ]
  },
  {
   "cell_type": "markdown",
   "metadata": {},
   "source": [
    "<div class=\"alert alert-success\">\n",
    "<b>EJERCICIO 2: Concatenar todos los archivos  .csv del primer semestre </b>:\n",
    "\n",
    " <ul>\n",
    "  <li> a) Encontrar el promedio y   desviación estándar  </li>\n",
    "  <li> b) Datos del estudiante(s) con la calificación más alta </li>   \n",
    "  <li> c) Datos del estudiante(s) con la calificación más baja </li>   \n",
    "</ul>\n",
    "</div>"
   ]
  },
  {
   "cell_type": "code",
   "execution_count": 16,
   "metadata": {},
   "outputs": [
    {
     "name": "stdout",
     "output_type": "stream",
     "text": [
      "['datos\\\\semestre1a.csv', 'datos\\\\semestre1b.csv', 'datos\\\\semestre1c.csv']\n"
     ]
    },
    {
     "data": {
      "text/html": [
       "<div>\n",
       "<style scoped>\n",
       "    .dataframe tbody tr th:only-of-type {\n",
       "        vertical-align: middle;\n",
       "    }\n",
       "\n",
       "    .dataframe tbody tr th {\n",
       "        vertical-align: top;\n",
       "    }\n",
       "\n",
       "    .dataframe thead th {\n",
       "        text-align: right;\n",
       "    }\n",
       "</style>\n",
       "<table border=\"1\" class=\"dataframe\">\n",
       "  <thead>\n",
       "    <tr style=\"text-align: right;\">\n",
       "      <th></th>\n",
       "      <th>NOMBRE</th>\n",
       "      <th>APELLIDO</th>\n",
       "      <th>CALIFICACION</th>\n",
       "      <th>CARRERA</th>\n",
       "      <th>CIUDAD</th>\n",
       "    </tr>\n",
       "  </thead>\n",
       "  <tbody>\n",
       "    <tr>\n",
       "      <th>0</th>\n",
       "      <td>ENRIQUE</td>\n",
       "      <td>MORENO</td>\n",
       "      <td>40</td>\n",
       "      <td>RENOVABLES</td>\n",
       "      <td>MERIDA</td>\n",
       "    </tr>\n",
       "    <tr>\n",
       "      <th>1</th>\n",
       "      <td>AMPARO</td>\n",
       "      <td>CABALLERO</td>\n",
       "      <td>63</td>\n",
       "      <td>RENOVABLES</td>\n",
       "      <td>MERIDA</td>\n",
       "    </tr>\n",
       "    <tr>\n",
       "      <th>2</th>\n",
       "      <td>MARTA</td>\n",
       "      <td>BALAM</td>\n",
       "      <td>94</td>\n",
       "      <td>MECATRONICA</td>\n",
       "      <td>MERIDA</td>\n",
       "    </tr>\n",
       "    <tr>\n",
       "      <th>3</th>\n",
       "      <td>JULIA</td>\n",
       "      <td>ORTIZ</td>\n",
       "      <td>86</td>\n",
       "      <td>RENOVABLES</td>\n",
       "      <td>UMAN</td>\n",
       "    </tr>\n",
       "    <tr>\n",
       "      <th>4</th>\n",
       "      <td>PASCUAL</td>\n",
       "      <td>MAY</td>\n",
       "      <td>58</td>\n",
       "      <td>FISICA</td>\n",
       "      <td>MERIDA</td>\n",
       "    </tr>\n",
       "  </tbody>\n",
       "</table>\n",
       "</div>"
      ],
      "text/plain": [
       "    NOMBRE   APELLIDO  CALIFICACION      CARRERA  CIUDAD\n",
       "0  ENRIQUE     MORENO            40   RENOVABLES  MERIDA\n",
       "1   AMPARO  CABALLERO            63   RENOVABLES  MERIDA\n",
       "2    MARTA      BALAM            94  MECATRONICA  MERIDA\n",
       "3    JULIA      ORTIZ            86   RENOVABLES    UMAN\n",
       "4  PASCUAL        MAY            58       FISICA  MERIDA"
      ]
     },
     "execution_count": 16,
     "metadata": {},
     "output_type": "execute_result"
    }
   ],
   "source": [
    "path = 'datos'\n",
    "files = glob.glob(path + '/semestre1?.csv')\n",
    "print(files)\n",
    "# crear una lista vacía para almacenar  los dataframes\n",
    "lista_dfs = []\n",
    "# recorrer la lista de archivos para crear la lista de archivos \n",
    "for file in files:\n",
    "    temp_df = pd.read_csv(file)\n",
    "    lista_dfs.append(temp_df)\n",
    "\n",
    "df_primer_semestre = pd.concat(lista_dfs, axis = 0)\n",
    "df_primer_semestre.head()"
   ]
  },
  {
   "cell_type": "code",
   "execution_count": 17,
   "metadata": {},
   "outputs": [
    {
     "name": "stdout",
     "output_type": "stream",
     "text": [
      "\n",
      "----------------------------------\n",
      "- Promedio 78.3438\n",
      "- Desviacion estandar: 20.0557\n",
      "----------------------------------\n",
      "\n"
     ]
    }
   ],
   "source": [
    "# a) Encontrar el promedio y desviación estándar\n",
    "print(f'''\n",
    "----------------------------------\n",
    "- Promedio {round(df_primer_semestre['CALIFICACION'].mean(), 4)}\n",
    "- Desviacion estandar: {round(df_primer_semestre['CALIFICACION'].std(), 4)}\n",
    "----------------------------------\n",
    "''')"
   ]
  },
  {
   "cell_type": "code",
   "execution_count": 18,
   "metadata": {},
   "outputs": [
    {
     "data": {
      "text/html": [
       "<div>\n",
       "<style scoped>\n",
       "    .dataframe tbody tr th:only-of-type {\n",
       "        vertical-align: middle;\n",
       "    }\n",
       "\n",
       "    .dataframe tbody tr th {\n",
       "        vertical-align: top;\n",
       "    }\n",
       "\n",
       "    .dataframe thead th {\n",
       "        text-align: right;\n",
       "    }\n",
       "</style>\n",
       "<table border=\"1\" class=\"dataframe\">\n",
       "  <thead>\n",
       "    <tr style=\"text-align: right;\">\n",
       "      <th></th>\n",
       "      <th>NOMBRE</th>\n",
       "      <th>APELLIDO</th>\n",
       "      <th>CALIFICACION</th>\n",
       "      <th>CARRERA</th>\n",
       "      <th>CIUDAD</th>\n",
       "    </tr>\n",
       "  </thead>\n",
       "  <tbody>\n",
       "    <tr>\n",
       "      <th>1</th>\n",
       "      <td>JUAN</td>\n",
       "      <td>BALAM</td>\n",
       "      <td>100</td>\n",
       "      <td>FISICA</td>\n",
       "      <td>MOTUL</td>\n",
       "    </tr>\n",
       "  </tbody>\n",
       "</table>\n",
       "</div>"
      ],
      "text/plain": [
       "  NOMBRE APELLIDO  CALIFICACION CARRERA CIUDAD\n",
       "1   JUAN    BALAM           100  FISICA  MOTUL"
      ]
     },
     "execution_count": 18,
     "metadata": {},
     "output_type": "execute_result"
    }
   ],
   "source": [
    "# b) Datos del estudiante(s) con la calificación más alta\n",
    "df_primer_semestre[df_primer_semestre['CALIFICACION'] == df_primer_semestre['CALIFICACION'].max()]"
   ]
  },
  {
   "cell_type": "code",
   "execution_count": 19,
   "metadata": {},
   "outputs": [
    {
     "data": {
      "text/html": [
       "<div>\n",
       "<style scoped>\n",
       "    .dataframe tbody tr th:only-of-type {\n",
       "        vertical-align: middle;\n",
       "    }\n",
       "\n",
       "    .dataframe tbody tr th {\n",
       "        vertical-align: top;\n",
       "    }\n",
       "\n",
       "    .dataframe thead th {\n",
       "        text-align: right;\n",
       "    }\n",
       "</style>\n",
       "<table border=\"1\" class=\"dataframe\">\n",
       "  <thead>\n",
       "    <tr style=\"text-align: right;\">\n",
       "      <th></th>\n",
       "      <th>NOMBRE</th>\n",
       "      <th>APELLIDO</th>\n",
       "      <th>CALIFICACION</th>\n",
       "      <th>CARRERA</th>\n",
       "      <th>CIUDAD</th>\n",
       "    </tr>\n",
       "  </thead>\n",
       "  <tbody>\n",
       "    <tr>\n",
       "      <th>5</th>\n",
       "      <td>MANUEL</td>\n",
       "      <td>RODENAS</td>\n",
       "      <td>12</td>\n",
       "      <td>RENOVABLES</td>\n",
       "      <td>MERIDA</td>\n",
       "    </tr>\n",
       "  </tbody>\n",
       "</table>\n",
       "</div>"
      ],
      "text/plain": [
       "   NOMBRE APELLIDO  CALIFICACION     CARRERA  CIUDAD\n",
       "5  MANUEL  RODENAS            12  RENOVABLES  MERIDA"
      ]
     },
     "execution_count": 19,
     "metadata": {},
     "output_type": "execute_result"
    }
   ],
   "source": [
    "# c) Datos del estudiante(s) con la calificación más baja\n",
    "df_primer_semestre[df_primer_semestre['CALIFICACION'] == df_primer_semestre['CALIFICACION'].min()]"
   ]
  },
  {
   "cell_type": "markdown",
   "metadata": {},
   "source": [
    "<div class=\"alert alert-success\">\n",
    "<b>EJERCICIO 3: Concatenar todos los archivos .csv de los grupos \"c\", es decir semestre1c, semestre2c y semestre3c </b>:\n",
    "\n",
    " <ul>\n",
    "  <li> a) Encontrar el promedio y   desviación estándar  </li>\n",
    "  <li> b) Datos del estudiante(s) con la calificación más alta </li>   \n",
    "  <li> c) Datos del estudiante(s) con la calificación más baja </li>   \n",
    "</ul>\n",
    "</div>"
   ]
  },
  {
   "cell_type": "code",
   "execution_count": 20,
   "metadata": {},
   "outputs": [
    {
     "name": "stdout",
     "output_type": "stream",
     "text": [
      "['datos\\\\semestre1c.csv', 'datos\\\\semestre2c.csv', 'datos\\\\semestre3c.csv']\n"
     ]
    },
    {
     "data": {
      "text/html": [
       "<div>\n",
       "<style scoped>\n",
       "    .dataframe tbody tr th:only-of-type {\n",
       "        vertical-align: middle;\n",
       "    }\n",
       "\n",
       "    .dataframe tbody tr th {\n",
       "        vertical-align: top;\n",
       "    }\n",
       "\n",
       "    .dataframe thead th {\n",
       "        text-align: right;\n",
       "    }\n",
       "</style>\n",
       "<table border=\"1\" class=\"dataframe\">\n",
       "  <thead>\n",
       "    <tr style=\"text-align: right;\">\n",
       "      <th></th>\n",
       "      <th>NOMBRE</th>\n",
       "      <th>APELLIDO</th>\n",
       "      <th>CALIFICACION</th>\n",
       "      <th>CARRERA</th>\n",
       "      <th>CIUDAD</th>\n",
       "    </tr>\n",
       "  </thead>\n",
       "  <tbody>\n",
       "    <tr>\n",
       "      <th>0</th>\n",
       "      <td>ISMAEL</td>\n",
       "      <td>LOZANO</td>\n",
       "      <td>98</td>\n",
       "      <td>MECATRONICA</td>\n",
       "      <td>MERIDA</td>\n",
       "    </tr>\n",
       "    <tr>\n",
       "      <th>1</th>\n",
       "      <td>ROCIO</td>\n",
       "      <td>BLAZQUEZ</td>\n",
       "      <td>82</td>\n",
       "      <td>RENOVABLES</td>\n",
       "      <td>MERIDA</td>\n",
       "    </tr>\n",
       "    <tr>\n",
       "      <th>2</th>\n",
       "      <td>ROSA</td>\n",
       "      <td>TEBAR</td>\n",
       "      <td>75</td>\n",
       "      <td>MECATRONICA</td>\n",
       "      <td>MERIDA</td>\n",
       "    </tr>\n",
       "    <tr>\n",
       "      <th>3</th>\n",
       "      <td>MANUELA</td>\n",
       "      <td>ORTEGA</td>\n",
       "      <td>95</td>\n",
       "      <td>MECATRONICA</td>\n",
       "      <td>MERIDA</td>\n",
       "    </tr>\n",
       "    <tr>\n",
       "      <th>4</th>\n",
       "      <td>MARIA</td>\n",
       "      <td>MARTINEZ</td>\n",
       "      <td>95</td>\n",
       "      <td>FISICA</td>\n",
       "      <td>MERIDA</td>\n",
       "    </tr>\n",
       "  </tbody>\n",
       "</table>\n",
       "</div>"
      ],
      "text/plain": [
       "    NOMBRE  APELLIDO  CALIFICACION      CARRERA  CIUDAD\n",
       "0   ISMAEL    LOZANO            98  MECATRONICA  MERIDA\n",
       "1    ROCIO  BLAZQUEZ            82   RENOVABLES  MERIDA\n",
       "2     ROSA     TEBAR            75  MECATRONICA  MERIDA\n",
       "3  MANUELA    ORTEGA            95  MECATRONICA  MERIDA\n",
       "4    MARIA  MARTINEZ            95       FISICA  MERIDA"
      ]
     },
     "execution_count": 20,
     "metadata": {},
     "output_type": "execute_result"
    }
   ],
   "source": [
    "path = 'datos'\n",
    "files = glob.glob(path + '/semestre?c.csv')\n",
    "print(files)\n",
    "# crear una lista vacía para almacenar  los dataframes\n",
    "lista_dfs = []\n",
    "# recorrer la lista de archivos para crear la lista de archivos \n",
    "for file in files:\n",
    "    temp_df = pd.read_csv(file)\n",
    "    lista_dfs.append(temp_df)\n",
    "\n",
    "df_grupos_c = pd.concat(lista_dfs, axis = 0)\n",
    "df_grupos_c.head()"
   ]
  },
  {
   "cell_type": "code",
   "execution_count": 21,
   "metadata": {},
   "outputs": [
    {
     "name": "stdout",
     "output_type": "stream",
     "text": [
      "\n",
      "----------------------------------\n",
      "- Promedio 84.087\n",
      "- Desviacion estandar: 20.677\n",
      "----------------------------------\n",
      "\n"
     ]
    }
   ],
   "source": [
    "# a) Encontrar el promedio y desviación estándar\n",
    "print(f'''\n",
    "----------------------------------\n",
    "- Promedio {round(df_grupos_c['CALIFICACION'].mean(), 4)}\n",
    "- Desviacion estandar: {round(df_grupos_c['CALIFICACION'].std(), 4)}\n",
    "----------------------------------\n",
    "''')"
   ]
  },
  {
   "cell_type": "code",
   "execution_count": 22,
   "metadata": {},
   "outputs": [
    {
     "data": {
      "text/html": [
       "<div>\n",
       "<style scoped>\n",
       "    .dataframe tbody tr th:only-of-type {\n",
       "        vertical-align: middle;\n",
       "    }\n",
       "\n",
       "    .dataframe tbody tr th {\n",
       "        vertical-align: top;\n",
       "    }\n",
       "\n",
       "    .dataframe thead th {\n",
       "        text-align: right;\n",
       "    }\n",
       "</style>\n",
       "<table border=\"1\" class=\"dataframe\">\n",
       "  <thead>\n",
       "    <tr style=\"text-align: right;\">\n",
       "      <th></th>\n",
       "      <th>NOMBRE</th>\n",
       "      <th>APELLIDO</th>\n",
       "      <th>CALIFICACION</th>\n",
       "      <th>CARRERA</th>\n",
       "      <th>CIUDAD</th>\n",
       "    </tr>\n",
       "  </thead>\n",
       "  <tbody>\n",
       "    <tr>\n",
       "      <th>2</th>\n",
       "      <td>RICK</td>\n",
       "      <td>SANCHEZ</td>\n",
       "      <td>100</td>\n",
       "      <td>FISICA</td>\n",
       "      <td>MERIDA</td>\n",
       "    </tr>\n",
       "  </tbody>\n",
       "</table>\n",
       "</div>"
      ],
      "text/plain": [
       "  NOMBRE APELLIDO  CALIFICACION CARRERA  CIUDAD\n",
       "2   RICK  SANCHEZ           100  FISICA  MERIDA"
      ]
     },
     "execution_count": 22,
     "metadata": {},
     "output_type": "execute_result"
    }
   ],
   "source": [
    "# b) Datos del estudiante(s) con la calificación más alta\n",
    "df_grupos_c[df_grupos_c['CALIFICACION'] == df_grupos_c['CALIFICACION'].max()]"
   ]
  },
  {
   "cell_type": "code",
   "execution_count": 23,
   "metadata": {},
   "outputs": [
    {
     "data": {
      "text/html": [
       "<div>\n",
       "<style scoped>\n",
       "    .dataframe tbody tr th:only-of-type {\n",
       "        vertical-align: middle;\n",
       "    }\n",
       "\n",
       "    .dataframe tbody tr th {\n",
       "        vertical-align: top;\n",
       "    }\n",
       "\n",
       "    .dataframe thead th {\n",
       "        text-align: right;\n",
       "    }\n",
       "</style>\n",
       "<table border=\"1\" class=\"dataframe\">\n",
       "  <thead>\n",
       "    <tr style=\"text-align: right;\">\n",
       "      <th></th>\n",
       "      <th>NOMBRE</th>\n",
       "      <th>APELLIDO</th>\n",
       "      <th>CALIFICACION</th>\n",
       "      <th>CARRERA</th>\n",
       "      <th>CIUDAD</th>\n",
       "    </tr>\n",
       "  </thead>\n",
       "  <tbody>\n",
       "    <tr>\n",
       "      <th>6</th>\n",
       "      <td>VICENTE</td>\n",
       "      <td>CABALLERO</td>\n",
       "      <td>8</td>\n",
       "      <td>MECATRONICA</td>\n",
       "      <td>MERIDA</td>\n",
       "    </tr>\n",
       "  </tbody>\n",
       "</table>\n",
       "</div>"
      ],
      "text/plain": [
       "    NOMBRE   APELLIDO  CALIFICACION      CARRERA  CIUDAD\n",
       "6  VICENTE  CABALLERO             8  MECATRONICA  MERIDA"
      ]
     },
     "execution_count": 23,
     "metadata": {},
     "output_type": "execute_result"
    }
   ],
   "source": [
    "# c) Datos del estudiante(s) con la calificación más baja\n",
    "df_grupos_c[df_grupos_c['CALIFICACION'] == df_grupos_c['CALIFICACION'].min()]"
   ]
  },
  {
   "cell_type": "markdown",
   "metadata": {},
   "source": [
    "<div class=\"alert alert-success\">\n",
    "<b>EJERCICIO 4: Concatenar todos los archivos .csv de los semestres 2 y 3  </b>:\n",
    "\n",
    " <ul>\n",
    "  <li> a) Encontrar el promedio y   desviación estándar  </li>\n",
    "  <li> b) Datos del estudiante(s) con la calificación más alta </li>   \n",
    "  <li> c) Datos del estudiante(s) con la calificación más baja </li>   \n",
    "</ul>\n",
    "</div>"
   ]
  },
  {
   "cell_type": "code",
   "execution_count": 24,
   "metadata": {},
   "outputs": [
    {
     "name": "stdout",
     "output_type": "stream",
     "text": [
      "['datos\\\\semestre2a.csv', 'datos\\\\semestre2b.csv', 'datos\\\\semestre2c.csv', 'datos\\\\semestre3a.csv', 'datos\\\\semestre3b.csv', 'datos\\\\semestre3c.csv']\n"
     ]
    },
    {
     "data": {
      "text/html": [
       "<div>\n",
       "<style scoped>\n",
       "    .dataframe tbody tr th:only-of-type {\n",
       "        vertical-align: middle;\n",
       "    }\n",
       "\n",
       "    .dataframe tbody tr th {\n",
       "        vertical-align: top;\n",
       "    }\n",
       "\n",
       "    .dataframe thead th {\n",
       "        text-align: right;\n",
       "    }\n",
       "</style>\n",
       "<table border=\"1\" class=\"dataframe\">\n",
       "  <thead>\n",
       "    <tr style=\"text-align: right;\">\n",
       "      <th></th>\n",
       "      <th>NOMBRE</th>\n",
       "      <th>APELLIDO</th>\n",
       "      <th>CALIFICACION</th>\n",
       "      <th>CARRERA</th>\n",
       "      <th>CIUDAD</th>\n",
       "    </tr>\n",
       "  </thead>\n",
       "  <tbody>\n",
       "    <tr>\n",
       "      <th>0</th>\n",
       "      <td>CONSUELO</td>\n",
       "      <td>PECH</td>\n",
       "      <td>83</td>\n",
       "      <td>RENOVABLES</td>\n",
       "      <td>MERIDA</td>\n",
       "    </tr>\n",
       "    <tr>\n",
       "      <th>1</th>\n",
       "      <td>ELENA</td>\n",
       "      <td>CASTILLO</td>\n",
       "      <td>73</td>\n",
       "      <td>MECATRONICA</td>\n",
       "      <td>MERIDA</td>\n",
       "    </tr>\n",
       "    <tr>\n",
       "      <th>2</th>\n",
       "      <td>JAVIER</td>\n",
       "      <td>PEREZ</td>\n",
       "      <td>57</td>\n",
       "      <td>RENOVABLES</td>\n",
       "      <td>MERIDA</td>\n",
       "    </tr>\n",
       "    <tr>\n",
       "      <th>3</th>\n",
       "      <td>ANGELES</td>\n",
       "      <td>DIAZ</td>\n",
       "      <td>80</td>\n",
       "      <td>MECATRONICA</td>\n",
       "      <td>MERIDA</td>\n",
       "    </tr>\n",
       "    <tr>\n",
       "      <th>4</th>\n",
       "      <td>MARIO</td>\n",
       "      <td>RAMIREZ</td>\n",
       "      <td>89</td>\n",
       "      <td>FISICA</td>\n",
       "      <td>MERIDA</td>\n",
       "    </tr>\n",
       "  </tbody>\n",
       "</table>\n",
       "</div>"
      ],
      "text/plain": [
       "     NOMBRE  APELLIDO  CALIFICACION      CARRERA  CIUDAD\n",
       "0  CONSUELO      PECH            83   RENOVABLES  MERIDA\n",
       "1     ELENA  CASTILLO            73  MECATRONICA  MERIDA\n",
       "2    JAVIER     PEREZ            57   RENOVABLES  MERIDA\n",
       "3   ANGELES      DIAZ            80  MECATRONICA  MERIDA\n",
       "4     MARIO   RAMIREZ            89       FISICA  MERIDA"
      ]
     },
     "execution_count": 24,
     "metadata": {},
     "output_type": "execute_result"
    }
   ],
   "source": [
    "path = 'datos'\n",
    "files = glob.glob(path + '/semestre[2-3]?.csv')\n",
    "print(files)\n",
    "# crear una lista vacía para almacenar  los dataframes\n",
    "lista_dfs = []\n",
    "# recorrer la lista de archivos para crear la lista de archivos \n",
    "for file in files:\n",
    "    temp_df = pd.read_csv(file)\n",
    "    lista_dfs.append(temp_df)\n",
    "\n",
    "df_semestres_2_3 = pd.concat(lista_dfs, axis = 0)\n",
    "df_semestres_2_3.head()"
   ]
  },
  {
   "cell_type": "code",
   "execution_count": 25,
   "metadata": {},
   "outputs": [
    {
     "name": "stdout",
     "output_type": "stream",
     "text": [
      "\n",
      "----------------------------------\n",
      "- Promedio 84.6486\n",
      "- Desviacion estandar: 17.2308\n",
      "----------------------------------\n",
      "\n"
     ]
    }
   ],
   "source": [
    "# a) Encontrar el promedio y desviación estándar\n",
    "print(f'''\n",
    "----------------------------------\n",
    "- Promedio {round(df_semestres_2_3['CALIFICACION'].mean(), 4)}\n",
    "- Desviacion estandar: {round(df_semestres_2_3['CALIFICACION'].std(), 4)}\n",
    "----------------------------------\n",
    "''')"
   ]
  },
  {
   "cell_type": "code",
   "execution_count": 26,
   "metadata": {},
   "outputs": [
    {
     "data": {
      "text/html": [
       "<div>\n",
       "<style scoped>\n",
       "    .dataframe tbody tr th:only-of-type {\n",
       "        vertical-align: middle;\n",
       "    }\n",
       "\n",
       "    .dataframe tbody tr th {\n",
       "        vertical-align: top;\n",
       "    }\n",
       "\n",
       "    .dataframe thead th {\n",
       "        text-align: right;\n",
       "    }\n",
       "</style>\n",
       "<table border=\"1\" class=\"dataframe\">\n",
       "  <thead>\n",
       "    <tr style=\"text-align: right;\">\n",
       "      <th></th>\n",
       "      <th>NOMBRE</th>\n",
       "      <th>APELLIDO</th>\n",
       "      <th>CALIFICACION</th>\n",
       "      <th>CARRERA</th>\n",
       "      <th>CIUDAD</th>\n",
       "    </tr>\n",
       "  </thead>\n",
       "  <tbody>\n",
       "    <tr>\n",
       "      <th>2</th>\n",
       "      <td>RICK</td>\n",
       "      <td>SANCHEZ</td>\n",
       "      <td>100</td>\n",
       "      <td>FISICA</td>\n",
       "      <td>MERIDA</td>\n",
       "    </tr>\n",
       "  </tbody>\n",
       "</table>\n",
       "</div>"
      ],
      "text/plain": [
       "  NOMBRE APELLIDO  CALIFICACION CARRERA  CIUDAD\n",
       "2   RICK  SANCHEZ           100  FISICA  MERIDA"
      ]
     },
     "execution_count": 26,
     "metadata": {},
     "output_type": "execute_result"
    }
   ],
   "source": [
    "# b) Datos del estudiante(s) con la calificación más alta\n",
    "df_semestres_2_3[df_semestres_2_3['CALIFICACION'] == df_semestres_2_3['CALIFICACION'].max()]"
   ]
  },
  {
   "cell_type": "code",
   "execution_count": 27,
   "metadata": {},
   "outputs": [
    {
     "data": {
      "text/html": [
       "<div>\n",
       "<style scoped>\n",
       "    .dataframe tbody tr th:only-of-type {\n",
       "        vertical-align: middle;\n",
       "    }\n",
       "\n",
       "    .dataframe tbody tr th {\n",
       "        vertical-align: top;\n",
       "    }\n",
       "\n",
       "    .dataframe thead th {\n",
       "        text-align: right;\n",
       "    }\n",
       "</style>\n",
       "<table border=\"1\" class=\"dataframe\">\n",
       "  <thead>\n",
       "    <tr style=\"text-align: right;\">\n",
       "      <th></th>\n",
       "      <th>NOMBRE</th>\n",
       "      <th>APELLIDO</th>\n",
       "      <th>CALIFICACION</th>\n",
       "      <th>CARRERA</th>\n",
       "      <th>CIUDAD</th>\n",
       "    </tr>\n",
       "  </thead>\n",
       "  <tbody>\n",
       "    <tr>\n",
       "      <th>6</th>\n",
       "      <td>VICENTE</td>\n",
       "      <td>CABALLERO</td>\n",
       "      <td>8</td>\n",
       "      <td>MECATRONICA</td>\n",
       "      <td>MERIDA</td>\n",
       "    </tr>\n",
       "  </tbody>\n",
       "</table>\n",
       "</div>"
      ],
      "text/plain": [
       "    NOMBRE   APELLIDO  CALIFICACION      CARRERA  CIUDAD\n",
       "6  VICENTE  CABALLERO             8  MECATRONICA  MERIDA"
      ]
     },
     "execution_count": 27,
     "metadata": {},
     "output_type": "execute_result"
    }
   ],
   "source": [
    "# c) Datos del estudiante(s) con la calificación más baja\n",
    "df_semestres_2_3[df_semestres_2_3['CALIFICACION'] == df_semestres_2_3['CALIFICACION'].min()]"
   ]
  },
  {
   "cell_type": "code",
   "execution_count": null,
   "metadata": {},
   "outputs": [],
   "source": []
  }
 ],
 "metadata": {
  "kernelspec": {
   "display_name": "Python 3 (ipykernel)",
   "language": "python",
   "name": "python3"
  },
  "language_info": {
   "codemirror_mode": {
    "name": "ipython",
    "version": 3
   },
   "file_extension": ".py",
   "mimetype": "text/x-python",
   "name": "python",
   "nbconvert_exporter": "python",
   "pygments_lexer": "ipython3",
   "version": "3.9.13"
  }
 },
 "nbformat": 4,
 "nbformat_minor": 4
}
